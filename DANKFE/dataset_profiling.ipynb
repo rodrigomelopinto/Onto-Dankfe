{
 "cells": [
  {
   "cell_type": "code",
   "execution_count": 19,
   "metadata": {},
   "outputs": [],
   "source": [
    "import sys\n",
    "sys.path.insert(0, 'utils')\n",
    "import pandas as pd\n",
    "import matplotlib.pyplot as plt\n",
    "import ds_charts as ds\n",
    "from ds_charts import HEIGHT\n",
    "import numpy as np\n",
    "from pandas.plotting import register_matplotlib_converters\n",
    "import seaborn as sns\n",
    "import os\n",
    "register_matplotlib_converters()\n",
    "\n",
    "%matplotlib inline\n",
    "\n",
    "\n",
    "darkblue = '#0C70B2'\n",
    "\n",
    "dataset = 'crime'\n",
    "suffix = 'crime'\n",
    "target = 'common_dist'\n",
    "data_folder = f'data/{dataset}/'\n",
    "image_dir = f'images/dankfe3_profiling/{dataset}'\n",
    "savefig = False\n",
    "\n",
    "if not os.path.exists(image_dir):\n",
    "        os.makedirs(image_dir)\n",
    "\n",
    "# data = pd.read_csv(f'{data_folder}{suffix}_base.csv', parse_dates=['current_date'], infer_datetime_format=True)\n",
    "\n",
    "# data = pd.read_csv(f'{data_folder}{suffix}_dk.csv', parse_dates=['current_date'], infer_datetime_format=True)\n",
    "# data = pd.read_csv(f'{data_folder}{suffix}_gen_train.csv', parse_dates=['current_date','first_date'], infer_datetime_format=True)\n",
    "data = pd.read_csv(f'{data_folder}{suffix}_gen_train.csv', parse_dates=['current_date'], infer_datetime_format=True)\n",
    "# data2 = pd.read_csv(f'{data_folder}{suffix}_gen_test.csv', parse_dates=['current_date','first_date'], infer_datetime_format=True)\n",
    "data2 = pd.read_csv(f'{data_folder}{suffix}_gen_test.csv', parse_dates=['current_date'], infer_datetime_format=True)\n",
    "\n",
    "# data = pd.concat([data,data2],axis = 0)"
   ]
  },
  {
   "cell_type": "code",
   "execution_count": 3,
   "metadata": {},
   "outputs": [
    {
     "data": {
      "image/png": "[encoded data removed]",
      "text/plain": [
       "<Figure size 504x360 with 1 Axes>"
      ]
     },
     "metadata": {
      "needs_background": "dark"
     },
     "output_type": "display_data"
    }
   ],
   "source": [
    "plt.figure(figsize=(7,5))\n",
    "# data2 = data.drop(columns=['current_date_year'])\n",
    "data.boxplot(vert=False)\n",
    "if savefig:\n",
    "    plt.savefig(f'{image_dir}/global_boxplot.png', dpi=300, bbox_inches = 'tight')\n",
    "plt.show()"
   ]
  },
  {
   "cell_type": "code",
   "execution_count": null,
   "metadata": {},
   "outputs": [],
   "source": [
    "plt.figure(figsize=(4,2))\n",
    "values = {'nr records': data.shape[0], 'nr variables': data.shape[1]}\n",
    "ax = sns.barplot(list(values.keys()), list(values.values()), color = darkblue)\n",
    "ax.set_title('Nr of records vs nr of variables')\n",
    "ax.bar_label(ax.containers[0])\n",
    "if savefig:\n",
    "    plt.savefig(f'{image_dir}/records_variables.png', dpi=300, bbox_inches = 'tight')\n",
    "plt.show()"
   ]
  },
  {
   "cell_type": "code",
   "execution_count": null,
   "metadata": {},
   "outputs": [],
   "source": [
    "from numpy import isnan\n",
    "from datetime import datetime\n",
    "\n",
    "#Mudanças na funcao: troquei datetime para datetime64[ns] e quando se faz o unique, as datas passam para o formato np.datetime, por isso mudei isso também. \n",
    "\n",
    "cat_vars = data.select_dtypes(include='object')\n",
    "data[cat_vars.columns] = data.select_dtypes(['object']).apply(lambda x: x.astype('category'))\n",
    "\n",
    "def get_variable_types(df: pd.DataFrame) -> dict:\n",
    "    variable_types: dict = {\n",
    "        'numeric': [],\n",
    "        'binary': [],\n",
    "        'date': [],\n",
    "        'symbolic': []\n",
    "    }\n",
    "    for c in df.columns:\n",
    "        uniques = df[c].dropna(inplace=False).unique()\n",
    "        if len(uniques) == 2:\n",
    "            variable_types['binary'].append(c)\n",
    "            df[c].astype('bool')\n",
    "        elif df[c].dtype == 'datetime64[ns]':\n",
    "            variable_types['date'].append(c)\n",
    "        elif df[c].dtype == 'int64':\n",
    "            variable_types['numeric'].append(c)\n",
    "        elif df[c].dtype == 'float64':\n",
    "            variable_types['numeric'].append(c)\n",
    "        else:\n",
    "            df[c].astype('category')\n",
    "            variable_types['symbolic'].append(c)\n",
    "    return variable_types\n",
    "\n",
    "variable_types = get_variable_types(data)\n",
    "counts = {}\n",
    "print(variable_types)\n",
    "for tp in variable_types.keys():\n",
    "    counts[tp] = len(variable_types[tp])\n",
    "plt.figure(figsize=(4,2))\n",
    "ax = sns.barplot(list(counts.keys()), list(counts.values()), color = darkblue)\n",
    "ax.set_title('Nr of variables per type')\n",
    "ax.bar_label(ax.containers[0])\n",
    "if savefig:\n",
    "    plt.savefig(f'{image_dir}/variable_types.png', dpi=300, bbox_inches = 'tight')\n",
    "plt.show()"
   ]
  },
  {
   "cell_type": "code",
   "execution_count": null,
   "metadata": {},
   "outputs": [],
   "source": [
    "# mv = {}\n",
    "# for var in data:\n",
    "#     nr = data[var].isna().sum()\n",
    "#     if nr > 0:\n",
    "#         mv[var] = nr\n",
    "# if len(mv) != 0:\n",
    "#     plt.figure()\n",
    "#     ax = sns.barplot(list(mv.keys()), list(mv.values()), color = darkblue)\n",
    "#     ax.set_title('Nr of missing values per variable')\n",
    "#     ax.set_xlabel('variables') \n",
    "#     ax.set_ylabel('nr missing values')\n",
    "#     ax.bar_label(ax.containers[0])\n",
    "#     ax.tick_params(axis='x', rotation=90)\n",
    "#     if savefig:\n",
    "#         plt.savefig(f'{image_dir}/mv.png', dpi=300, bbox_inches = 'tight')\n",
    "#     plt.show()"
   ]
  },
  {
   "cell_type": "code",
   "execution_count": null,
   "metadata": {},
   "outputs": [],
   "source": [
    "# Grafico com os missing values\n",
    "# ax = sns.heatmap(data.isnull().T, cbar=False)\n",
    "# ax.invert_yaxis()\n",
    "# if savefig:\n",
    "#     plt.savefig(f'{image_dir}/missing_heatmap.png', dpi=300, bbox_inches = 'tight')"
   ]
  },
  {
   "cell_type": "code",
   "execution_count": null,
   "metadata": {},
   "outputs": [],
   "source": [
    "# pd.set_option('display.float_format', lambda x: '%.3f' % x)\n",
    "# variable_types = get_variable_types(data)\n",
    "# numeric_vars = variable_types['numeric']\n",
    "# data[numeric_vars].describe()"
   ]
  },
  {
   "cell_type": "code",
   "execution_count": null,
   "metadata": {},
   "outputs": [],
   "source": [
    "variable_types = get_variable_types(data)\n",
    "numeric_vars = variable_types['numeric']\n",
    "rows, cols = ds.choose_grid(len(numeric_vars))\n",
    "# rows, cols = 5,5\n",
    "fig, axs = plt.subplots(rows, cols, figsize=(cols*ds.HEIGHT, rows*ds.HEIGHT))\n",
    "i, j = 0, 0\n",
    "for n in range(len(numeric_vars)):\n",
    "    axs[i, j].set_title('Boxplot for %s'%numeric_vars[n])\n",
    "    axs[i, j].boxplot(data[numeric_vars[n]].dropna().values)\n",
    "    i, j = (i + 1, 0) if (n+1) % cols == 0 else (i, j + 1)\n",
    "if savefig:\n",
    "    plt.savefig(f'{image_dir}/single_boxplots.png', bbox_inches = 'tight', dpi=300)\n",
    "plt.show()"
   ]
  },
  {
   "cell_type": "code",
   "execution_count": null,
   "metadata": {},
   "outputs": [],
   "source": [
    "NR_STDEV: int = 2\n",
    "\n",
    "numeric_vars = get_variable_types(data)['numeric']\n",
    "if [] == numeric_vars:\n",
    "    raise ValueError('There are no numeric variables.')\n",
    "\n",
    "outliers_iqr = []\n",
    "outliers_stdev = []\n",
    "summary5 = data.describe(include='number')\n",
    "\n",
    "for var in numeric_vars:\n",
    "    iqr = 1.5 * (summary5[var]['75%'] - summary5[var]['25%'])\n",
    "    outliers_iqr += [\n",
    "        data[data[var] > summary5[var]['75%']  + iqr].count()[var] +\n",
    "        data[data[var] < summary5[var]['25%']  - iqr].count()[var]]\n",
    "    std = NR_STDEV * summary5[var]['std']\n",
    "    outliers_stdev += [\n",
    "        data[data[var] > summary5[var]['mean'] + std].count()[var] +\n",
    "        data[data[var] < summary5[var]['mean'] - std].count()[var]]\n",
    "\n",
    "outliers = {'iqr': outliers_iqr, 'stdev': outliers_stdev}\n",
    "plt.figure(figsize=(12, HEIGHT))\n",
    "ds.multiple_bar_chart(numeric_vars, outliers, title='Nr of outliers per variable', xlabel='variables', ylabel='nr outliers', percentage=False)\n",
    "if savefig:\n",
    "    plt.savefig(f'{image_dir}/outliers.png', dpi=300, bbox_inches = 'tight')\n",
    "plt.show()"
   ]
  },
  {
   "cell_type": "code",
   "execution_count": null,
   "metadata": {},
   "outputs": [],
   "source": [
    "# rows,cols = 5,5\n",
    "# fig, axs = plt.subplots(rows, cols, figsize=(cols*ds.HEIGHT, rows*ds.HEIGHT))\n",
    "# i, j = 0, 0\n",
    "# for n in range(len(numeric_vars)):\n",
    "#     axs[i, j].set_title('Histogram for %s'%numeric_vars[n])\n",
    "#     axs[i, j].set_xlabel(numeric_vars[n])\n",
    "#     axs[i, j].set_ylabel(\"nr records\")\n",
    "#     axs[i, j].hist(data[numeric_vars[n]].dropna().values, 'auto')\n",
    "#     i, j = (i + 1, 0) if (n+1) % cols == 0 else (i, j + 1)\n",
    "# if savefig:\n",
    "#   plt.savefig(f'{image_dir}/single_histograms_numeric.png', bbox_inches = 'tight', dpi=300)\n",
    "# plt.show()"
   ]
  },
  {
   "cell_type": "code",
   "execution_count": null,
   "metadata": {},
   "outputs": [],
   "source": [
    "# import seaborn as sns\n",
    "# fig, axs = plt.subplots(rows, cols, figsize=(cols*ds.HEIGHT, rows*ds.HEIGHT))\n",
    "# i, j = 0, 0\n",
    "# for n in range(len(numeric_vars)):\n",
    "#     axs[i, j].set_title('Histogram with trend for %s'%numeric_vars[n])\n",
    "#     sns.distplot(data[numeric_vars[n]].dropna().values, norm_hist=True, ax=axs[i, j], axlabel=numeric_vars[n])\n",
    "#     i, j = (i + 1, 0) if (n+1) % cols == 0 else (i, j + 1)\n",
    "# if savefig:\n",
    "#   plt.savefig(f'{image_dir}/histograms_trend_numeric.png', bbox_inches = 'tight', dpi=300)\n",
    "# plt.show()\n"
   ]
  },
  {
   "cell_type": "code",
   "execution_count": null,
   "metadata": {},
   "outputs": [],
   "source": [
    "# from seaborn import distplot\n",
    "# import scipy.stats as _stats\n",
    "# import numpy as np\n",
    "# import copy\n",
    "# def compute_known_distributions(x_values: list) -> dict:\n",
    "#     distributions = dict()\n",
    "#     # Gaussian\n",
    "#     mean, sigma = _stats.norm.fit(x_values)\n",
    "#     distributions['Normal(%.1f,%.2f)'%(mean,sigma)] = _stats.norm.pdf(x_values, mean, sigma)\n",
    "#     # Exponential\n",
    "#     loc, scale = _stats.expon.fit(x_values)\n",
    "#     distributions['Exp(%.2f)'%(1/scale)] = _stats.expon.pdf(x_values, loc, scale)\n",
    "#     # LogNorm\n",
    "#     sigma, loc, scale = _stats.lognorm.fit(x_values)\n",
    "#     distributions['LogNor(%.1f,%.2f)'%(np.log(scale),sigma)] = _stats.lognorm.pdf(x_values, sigma, loc, scale)\n",
    "#     return distributions\n",
    "\n",
    "# def histogram_with_distributions(ax: plt.Axes, series: pd.Series, var: str):\n",
    "#     values = series.sort_values().values\n",
    "#     ax.hist(values, 20, density=True)\n",
    "#     # distplot(data[numeric_vars[n]].dropna().values, norm_hist=True, ax=axs[i, j], axlabel=numeric_vars[n], kde=False)\n",
    "#     distributions = compute_known_distributions(values)\n",
    "#     ds.multiple_line_chart(values, distributions, ax=ax, title='Best fit for %s'%var, xlabel=var, ylabel='')\n",
    "\n",
    "# rows, cols = ds.choose_grid(len(numeric_vars))\n",
    "\n",
    "# fig, axs = plt.subplots(rows, cols, figsize=(cols*ds.HEIGHT, rows*ds.HEIGHT))\n",
    "# i, j = 0, 0\n",
    "# for n in range(len(numeric_vars)):\n",
    "#     histogram_with_distributions(axs[i], data[numeric_vars[n]].dropna(), numeric_vars[n])\n",
    "#     i += 1\n",
    "# if savefig:\n",
    "#   plt.savefig(f'{image_dir}/histogram_numeric_distribution.png', bbox_inches = 'tight', dpi=300)\n",
    "# plt.show()"
   ]
  },
  {
   "cell_type": "code",
   "execution_count": null,
   "metadata": {},
   "outputs": [],
   "source": [
    "symbolic_vars = variable_types['symbolic']\n",
    "print(symbolic_vars)\n",
    "if len(symbolic_vars) != 0:\n",
    "    rows, cols = ds.choose_grid(len(symbolic_vars))\n",
    "    fig, axs = plt.subplots(rows, cols, figsize=(cols*ds.HEIGHT, rows*ds.HEIGHT), squeeze=False)\n",
    "    i, j = 0, 0\n",
    "    for n in range(len(symbolic_vars)):\n",
    "        counts = data[symbolic_vars[n]].value_counts()\n",
    "        ax = sns.barplot(counts.index.to_list(), counts.values, ax=axs[i, j], color = '#0C70B2')\n",
    "        ax.set_title('Histogram for %s'%symbolic_vars[n])\n",
    "        ax.set_xlabel(symbolic_vars[n])\n",
    "        ax.set_ylabel('nr records')\n",
    "        ax.bar_label(ax.containers[0])\n",
    "        i, j = (i + 1, 0) if (n+1) % cols == 0 else (i, j + 1)\n",
    "    if savefig:\n",
    "        plt.savefig(f'{image_dir}/histograms_symbolic.png', bbox_inches = 'tight', dpi=300)\n",
    "    plt.show()"
   ]
  },
  {
   "cell_type": "code",
   "execution_count": null,
   "metadata": {},
   "outputs": [],
   "source": [
    "plt.figure()\n",
    "ax = sns.barplot(x=list(data[target].dropna().unique()),y=list(data[target].value_counts()),color = '#0C70B2')\n",
    "ax.set_title('Class Distribution')\n",
    "ax.bar_label(ax.containers[0])\n",
    "if savefig:\n",
    "    plt.savefig(f'{image_dir}/class_distribution.png', bbox_inches = 'tight', dpi=300)"
   ]
  },
  {
   "cell_type": "code",
   "execution_count": null,
   "metadata": {},
   "outputs": [],
   "source": [
    "# # Data Sparsity\n",
    "# rows, cols = len(numeric_vars)-1, len(numeric_vars)-1\n",
    "# plt.figure()\n",
    "# fig, axs = plt.subplots(rows, cols, figsize=(cols*4, rows*4), squeeze=False)\n",
    "# for i in range(len(numeric_vars)):\n",
    "#     var1 = numeric_vars[i]\n",
    "#     for j in range(i+1, len(numeric_vars)):\n",
    "#         var2 = numeric_vars[j]\n",
    "#         axs[i, j-1].set_title(\"%s x %s\"%(var1,var2))\n",
    "#         axs[i, j-1].set_xlabel(var1)\n",
    "#         axs[i, j-1].set_ylabel(var2)\n",
    "#         axs[i, j-1].scatter(data[var1], data[var2], c = data[target])\n",
    "# if savefig:\n",
    "#   plt.savefig(f'{image_dir}/sparsity_study_numeric.png', bbox_inches = 'tight', dpi=300)\n",
    "# plt.show()"
   ]
  },
  {
   "cell_type": "code",
   "execution_count": null,
   "metadata": {},
   "outputs": [],
   "source": [
    "# numeric_vars = get_variable_types(data)['numeric']\n",
    "# if [] == numeric_vars:\n",
    "#     raise ValueError('There are no numeric variables.')\n",
    "\n",
    "# rows, cols = len(numeric_vars)-1, len(numeric_vars)-1\n",
    "# plt.figure()\n",
    "# fig, axs = plt.subplots(rows, cols, figsize=(cols*4, rows*4), squeeze=False)\n",
    "# for i in range(len(numeric_vars)):\n",
    "#     var1 = numeric_vars[i]\n",
    "#     var2 = target\n",
    "#     for j in range(i+1, len(numeric_vars)):\n",
    "#         axs[i, j-1].set_title(\"%s x %s\"%(var1,var2))\n",
    "#         axs[i, j-1].set_xlabel(var1)\n",
    "#         axs[i, j-1].set_ylabel(var2)\n",
    "#         axs[i, j-1].scatter(data[var1], data[var2], c = data[target])\n",
    "# if savefig:\n",
    "#   plt.savefig(f'{image_dir}/sparsity_study_numeric_class.png', bbox_inches = 'tight', dpi=300)\n",
    "# plt.show()"
   ]
  },
  {
   "cell_type": "code",
   "execution_count": null,
   "metadata": {},
   "outputs": [],
   "source": [
    "# rows, cols = len(symbolic_vars)-1, len(symbolic_vars)-1\n",
    "# plt.figure()\n",
    "# fig, axs = plt.subplots(rows, cols, figsize=(cols*4, rows*4), squeeze=False)\n",
    "# for i in range(len(symbolic_vars)):\n",
    "#     var1 = symbolic_vars[i]\n",
    "#     for j in range(i+1, len(symbolic_vars)):\n",
    "#         var2 = symbolic_vars[j]\n",
    "#         axs[i, j-1].set_title(\"%s x %s\"%(var1,var2))\n",
    "#         axs[i, j-1].set_xlabel(var1)\n",
    "#         axs[i, j-1].set_ylabel(var2)\n",
    "#         axs[i, j-1].scatter(data[var1], data[var2])\n",
    "# if savefig:\n",
    "#   plt.savefig(f'{image_dir}/sparsity_study_symbolic.png', bbox_inches = 'tight', dpi=300)\n",
    "# plt.show()"
   ]
  },
  {
   "cell_type": "code",
   "execution_count": null,
   "metadata": {},
   "outputs": [],
   "source": [
    "# symbolic_vars = get_variable_types(data)['symbolic']\n",
    "# if [] == symbolic_vars:\n",
    "#     raise ValueError('There are no symbolic variables.')\n",
    "\n",
    "# rows, cols = len(symbolic_vars)-1, len(symbolic_vars)-1\n",
    "# plt.figure()\n",
    "# fig, axs = plt.subplots(rows, cols, figsize=(cols*4, rows*4), squeeze=False)\n",
    "# for i in range(len(symbolic_vars)):\n",
    "#     var1 = symbolic_vars[i]\n",
    "#     var2 = target\n",
    "#     for j in range(i+1, len(symbolic_vars)):\n",
    "#         axs[i, j-1].set_title(\"%s x %s\"%(var1,var2))\n",
    "#         axs[i, j-1].set_xlabel(var1)\n",
    "#         axs[i, j-1].set_ylabel(var2)\n",
    "#         axs[i, j-1].scatter(data[var1], data[var2], c = data[target])\n",
    "# if savefig:\n",
    "#   plt.savefig(f'{image_dir}/sparsity_study_symbolic_class.png', bbox_inches = 'tight', dpi=300)\n",
    "# plt.show()"
   ]
  },
  {
   "cell_type": "code",
   "execution_count": null,
   "metadata": {},
   "outputs": [],
   "source": [
    "class_values = data[target].value_counts().to_list()\n",
    "print(data.shape[0])\n",
    "print(data.shape[1])\n",
    "print(np.max(class_values) / (np.max(class_values) + np.min(class_values)))"
   ]
  },
  {
   "cell_type": "code",
   "execution_count": 20,
   "metadata": {},
   "outputs": [
    {
     "data": {
      "image/png": "[encoded data removed]",
      "text/plain": [
       "<Figure size 720x720 with 1 Axes>"
      ]
     },
     "metadata": {
      "needs_background": "dark"
     },
     "output_type": "display_data"
    }
   ],
   "source": [
    "fig = plt.figure(figsize = (10,10))\n",
    "corr_mtx = data.corr().abs().round(2)\n",
    "# sns.heatmap(corr_mtx, xticklabels=corr_mtx.columns, yticklabels=corr_mtx.columns, annot=True, cmap='coolwarm' ,annot_kws={\"fontsize\":10})\n",
    "sns.heatmap(corr_mtx, xticklabels=corr_mtx.columns, yticklabels=corr_mtx.columns, cmap='coolwarm' ,linewidths=1,linecolor=\"black\",annot_kws={\"fontsize\":10}, cbar = False)\n",
    "plt.title('Correlation Analysis')\n",
    "savefig = True\n",
    "if savefig:\n",
    "    plt.savefig(f'{image_dir}/correlation_analysis.png', bbox_inches = 'tight', dpi=300)\n",
    "plt.show()"
   ]
  }
 ],
 "metadata": {
  "interpreter": {
   "hash": "beedbe2faf2f7048d727558d0bc3221e7eba2a0b921cac4d4771b2feb8f74b30"
  },
  "kernelspec": {
   "display_name": "Python 3.10.1 64-bit",
   "language": "python",
   "name": "python3"
  },
  "language_info": {
   "codemirror_mode": {
    "name": "ipython",
    "version": 3
   },
   "file_extension": ".py",
   "mimetype": "text/x-python",
   "name": "python",
   "nbconvert_exporter": "python",
   "pygments_lexer": "ipython3",
   "version": "3.10.1"
  }
 },
 "nbformat": 4,
 "nbformat_minor": 4
}
